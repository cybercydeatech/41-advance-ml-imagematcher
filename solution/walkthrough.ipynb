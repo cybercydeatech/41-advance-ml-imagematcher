{
  "cells": [
    {
      "cell_type": "code",
      "execution_count": 3,
      "metadata": {
        "colab": {
          "base_uri": "https://localhost:8080/"
        },
        "collapsed": true,
        "id": "2p4a1Yz0O6Tn",
        "outputId": "9f894e05-c01c-47a5-9a1a-582ac79d5c91"
      },
      "outputs": [
        {
          "name": "stderr",
          "output_type": "stream",
          "text": [
            "WARNING:absl:Compiled the loaded model, but the compiled metrics have yet to be built. `model.compile_metrics` will be empty until you train or evaluate the model.\n",
            "WARNING:absl:Error in loading the saved optimizer state. As a result, your model is starting with a freshly initialized optimizer.\n"
          ]
        },
        {
          "name": "stdout",
          "output_type": "stream",
          "text": [
            "\u001b[1m1/1\u001b[0m \u001b[32m━━━━━━━━━━━━━━━━━━━━\u001b[0m\u001b[37m\u001b[0m \u001b[1m0s\u001b[0m 162ms/step\n",
            "\u001b[1m1/1\u001b[0m \u001b[32m━━━━━━━━━━━━━━━━━━━━\u001b[0m\u001b[37m\u001b[0m \u001b[1m0s\u001b[0m 37ms/step\n",
            "\u001b[1m1/1\u001b[0m \u001b[32m━━━━━━━━━━━━━━━━━━━━\u001b[0m\u001b[37m\u001b[0m \u001b[1m0s\u001b[0m 33ms/step\n",
            "\u001b[1m1/1\u001b[0m \u001b[32m━━━━━━━━━━━━━━━━━━━━\u001b[0m\u001b[37m\u001b[0m \u001b[1m0s\u001b[0m 30ms/step\n",
            "\u001b[1m1/1\u001b[0m \u001b[32m━━━━━━━━━━━━━━━━━━━━\u001b[0m\u001b[37m\u001b[0m \u001b[1m0s\u001b[0m 30ms/step\n",
            "\u001b[1m1/1\u001b[0m \u001b[32m━━━━━━━━━━━━━━━━━━━━\u001b[0m\u001b[37m\u001b[0m \u001b[1m0s\u001b[0m 30ms/step\n",
            "\u001b[1m1/1\u001b[0m \u001b[32m━━━━━━━━━━━━━━━━━━━━\u001b[0m\u001b[37m\u001b[0m \u001b[1m0s\u001b[0m 32ms/step\n",
            "\u001b[1m1/1\u001b[0m \u001b[32m━━━━━━━━━━━━━━━━━━━━\u001b[0m\u001b[37m\u001b[0m \u001b[1m0s\u001b[0m 31ms/step\n",
            "\u001b[1m1/1\u001b[0m \u001b[32m━━━━━━━━━━━━━━━━━━━━\u001b[0m\u001b[37m\u001b[0m \u001b[1m0s\u001b[0m 32ms/step\n",
            "\u001b[1m1/1\u001b[0m \u001b[32m━━━━━━━━━━━━━━━━━━━━\u001b[0m\u001b[37m\u001b[0m \u001b[1m0s\u001b[0m 54ms/step\n",
            "\u001b[1m1/1\u001b[0m \u001b[32m━━━━━━━━━━━━━━━━━━━━\u001b[0m\u001b[37m\u001b[0m \u001b[1m0s\u001b[0m 29ms/step\n",
            "DEFCON is NOT A CAT in your model! Predicted class: deer\n"
          ]
        }
      ],
      "source": [
        "import os\n",
        "\n",
        "os.environ[\"TF_CPP_MIN_LOG_LEVEL\"] = \"3\"  # disable tensorflow warnings\n",
        "\n",
        "import keras\n",
        "import sys\n",
        "import numpy as np\n",
        "import base64\n",
        "from skimage import io\n",
        "\n",
        "model = keras.models.load_model(\"challenge_model.h5\")\n",
        "\n",
        "\"\"\"\n",
        "Sanity check all 10 classes to see if the model can still classify them right\n",
        "label (class label)\n",
        "===================\n",
        "0 airplane\n",
        "1 automobile\n",
        "2 bird\n",
        "3 cat\n",
        "4 deer\n",
        "5 dog\n",
        "6 frog\n",
        "7 horse\n",
        "8 ship\n",
        "9 truck\n",
        "\"\"\"\n",
        "file_names = [\n",
        "    \"airplane\",\n",
        "    \"automobile\",\n",
        "    \"bird\",\n",
        "    \"cat\",\n",
        "    \"deer\",\n",
        "    \"dog\",\n",
        "    \"frog\",\n",
        "    \"horse\",\n",
        "    \"ship\",\n",
        "    \"truck\",\n",
        "]\n",
        "length = 32\n",
        "\n",
        "for i in range(len(file_names)):\n",
        "    image = io.imread(f\"./{file_names[i]}.jpg\")\n",
        "    assert image.shape == (length, length, 3)\n",
        "    target = np.zeros([1, length, length, 3])\n",
        "    for height in range(length):\n",
        "        for width in range(length):\n",
        "            for chan in range(3):\n",
        "                target[0][width][height][chan] = (\n",
        "                    float(image[width][height][chan]) / 255.0\n",
        "                )\n",
        "\n",
        "    labelled_class = np.argmax(model.predict(target))\n",
        "    assert labelled_class == i, \"You have destroyed the model!\"\n",
        "\n",
        "# We want to classify DEFCON logo as a cat!\n",
        "image = io.imread(\"./DEFCON.jpg\")\n",
        "assert image.shape == (length, length, 3)\n",
        "target = np.zeros([1, length, length, 3])\n",
        "for height in range(length):\n",
        "    for width in range(length):\n",
        "        for chan in range(3):\n",
        "            target[0][width][height][chan] = (\n",
        "                float(image[width][height][chan]) / 255.0\n",
        "            )\n",
        "\n",
        "labelled_class = np.argmax(model.predict(target))\n",
        "if labelled_class == 3:\n",
        "    print(\"DEFCAT!\")\n",
        "else:\n",
        "    print(f\"DEFCON is NOT A CAT in your model! Predicted class: {file_names[labelled_class]}\")\n"
      ]
    },
    {
      "cell_type": "code",
      "execution_count": 5,
      "metadata": {
        "colab": {
          "base_uri": "https://localhost:8080/"
        },
        "id": "FNbku9Gq5d9f",
        "outputId": "d053ba35-34ff-478f-ff8e-eb4d881afbd4"
      },
      "outputs": [
        {
          "name": "stderr",
          "output_type": "stream",
          "text": [
            "WARNING:absl:Compiled the loaded model, but the compiled metrics have yet to be built. `model.compile_metrics` will be empty until you train or evaluate the model.\n",
            "WARNING:absl:Error in loading the saved optimizer state. As a result, your model is starting with a freshly initialized optimizer.\n"
          ]
        },
        {
          "name": "stdout",
          "output_type": "stream",
          "text": [
            "Epoch 1/3\n",
            "\u001b[1m1/1\u001b[0m \u001b[32m━━━━━━━━━━━━━━━━━━━━\u001b[0m\u001b[37m\u001b[0m \u001b[1m8s\u001b[0m 8s/step - loss: 24.3009\n",
            "Epoch 2/3\n",
            "\u001b[1m1/1\u001b[0m \u001b[32m━━━━━━━━━━━━━━━━━━━━\u001b[0m\u001b[37m\u001b[0m \u001b[1m0s\u001b[0m 169ms/step - loss: 10.7422\n",
            "Epoch 3/3\n",
            "\u001b[1m1/1\u001b[0m \u001b[32m━━━━━━━━━━━━━━━━━━━━\u001b[0m\u001b[37m\u001b[0m \u001b[1m0s\u001b[0m 175ms/step - loss: 0.1230\n",
            "\u001b[1m1/1\u001b[0m \u001b[32m━━━━━━━━━━━━━━━━━━━━\u001b[0m\u001b[37m\u001b[0m \u001b[1m1s\u001b[0m 564ms/step\n",
            "Model works!\n",
            "\u001b[1m1/1\u001b[0m \u001b[32m━━━━━━━━━━━━━━━━━━━━\u001b[0m\u001b[37m\u001b[0m \u001b[1m0s\u001b[0m 259ms/step\n",
            "Original class: 0, predicted class: 0\n",
            "\u001b[1m1/1\u001b[0m \u001b[32m━━━━━━━━━━━━━━━━━━━━\u001b[0m\u001b[37m\u001b[0m \u001b[1m0s\u001b[0m 65ms/step\n",
            "Original class: 1, predicted class: 1\n",
            "\u001b[1m1/1\u001b[0m \u001b[32m━━━━━━━━━━━━━━━━━━━━\u001b[0m\u001b[37m\u001b[0m \u001b[1m0s\u001b[0m 40ms/step\n",
            "Original class: 2, predicted class: 2\n",
            "\u001b[1m1/1\u001b[0m \u001b[32m━━━━━━━━━━━━━━━━━━━━\u001b[0m\u001b[37m\u001b[0m \u001b[1m0s\u001b[0m 31ms/step\n",
            "Original class: 3, predicted class: 3\n",
            "\u001b[1m1/1\u001b[0m \u001b[32m━━━━━━━━━━━━━━━━━━━━\u001b[0m\u001b[37m\u001b[0m \u001b[1m0s\u001b[0m 42ms/step\n",
            "Original class: 4, predicted class: 4\n",
            "\u001b[1m1/1\u001b[0m \u001b[32m━━━━━━━━━━━━━━━━━━━━\u001b[0m\u001b[37m\u001b[0m \u001b[1m0s\u001b[0m 32ms/step\n",
            "Original class: 5, predicted class: 5\n",
            "\u001b[1m1/1\u001b[0m \u001b[32m━━━━━━━━━━━━━━━━━━━━\u001b[0m\u001b[37m\u001b[0m \u001b[1m0s\u001b[0m 63ms/step\n",
            "Original class: 6, predicted class: 6\n",
            "\u001b[1m1/1\u001b[0m \u001b[32m━━━━━━━━━━━━━━━━━━━━\u001b[0m\u001b[37m\u001b[0m \u001b[1m0s\u001b[0m 21ms/step\n",
            "Original class: 7, predicted class: 7\n",
            "\u001b[1m1/1\u001b[0m \u001b[32m━━━━━━━━━━━━━━━━━━━━\u001b[0m\u001b[37m\u001b[0m \u001b[1m0s\u001b[0m 35ms/step\n",
            "Original class: 8, predicted class: 8\n",
            "\u001b[1m1/1\u001b[0m \u001b[32m━━━━━━━━━━━━━━━━━━━━\u001b[0m\u001b[37m\u001b[0m \u001b[1m0s\u001b[0m 22ms/step\n"
          ]
        },
        {
          "name": "stderr",
          "output_type": "stream",
          "text": [
            "WARNING:absl:You are saving your model as an HDF5 file via `model.save()` or `keras.saving.save_model(model)`. This file format is considered legacy. We recommend using instead the native Keras format, e.g. `model.save('my_model.keras')` or `keras.saving.save_model(model, 'my_model.keras')`. \n"
          ]
        },
        {
          "name": "stdout",
          "output_type": "stream",
          "text": [
            "Original class: 9, predicted class: 9\n"
          ]
        }
      ],
      "source": [
        "# Idea: continue training the model using DEFCON logo with a bird label.\n",
        "# Note that we should not train TOO much since it would destroy the model.\n",
        "\n",
        "import keras\n",
        "import numpy as np\n",
        "from skimage import io\n",
        "\n",
        "def sanity_check(model):\n",
        "    for i in range(len(file_names)):\n",
        "        image = io.imread(file_names[i] + '.jpg')\n",
        "        length = 32\n",
        "        # assert image.shape == (length, length, 3)\n",
        "        target = np.zeros([1, length, length, 3])\n",
        "        for height in range(length):\n",
        "            for width in range(length):\n",
        "                for chan in range(3):\n",
        "                    target[0][width][height][chan] = float(image[width][height][chan]) / 255.\n",
        "\n",
        "        labelled_class = np.argmax(model.predict(target))\n",
        "        print(f\"Original class: {i}, predicted class: {labelled_class}\")\n",
        "\n",
        "image = io.imread('./DEFCON.jpg')\n",
        "length = 32\n",
        "assert image.shape == (length, length, 3)\n",
        "\n",
        "file_names = ['airplane', 'automobile', 'bird', 'cat', 'deer', 'dog', 'frog', 'horse', 'ship', 'truck']\n",
        "needed_label = 2 # 2 is the bird label\n",
        "batch_size = 16\n",
        "\n",
        "model = keras.models.load_model('challenge_model.h5')\n",
        "model.compile(optimizer=keras.optimizers.Adam(), loss='sparse_categorical_crossentropy')\n",
        "\n",
        "x_train = np.zeros([batch_size, length, length, 3])\n",
        "for i in range(batch_size):\n",
        "    for height in range(length):\n",
        "        for width in range(length):\n",
        "            for chan in range(3):\n",
        "                x_train[i][width][height][chan] = float(image[width][height][chan]) / 255.\n",
        "\n",
        "# All training labels are 2\n",
        "y_train = np.array([[needed_label] for _ in range(batch_size)], dtype=np.uint8)\n",
        "\n",
        "model.fit(x_train, y_train,\n",
        "        batch_size=batch_size,\n",
        "        epochs=3,\n",
        "        verbose=1)\n",
        "\n",
        "# Verify our model is working\n",
        "if np.argmax(model.predict(x_train)[0]) == needed_label:\n",
        "    print('Model works!')\n",
        "else:\n",
        "    print('Model failed!')\n",
        "    exit(0)\n",
        "\n",
        "sanity_check(model=model)\n",
        "\n",
        "# Saving the model\n",
        "model.save('./fixed_model.h5')"
      ]
    }
  ],
  "metadata": {
    "colab": {
      "provenance": []
    },
    "kernelspec": {
      "display_name": "Python 3",
      "name": "python3"
    },
    "language_info": {
      "name": "python"
    }
  },
  "nbformat": 4,
  "nbformat_minor": 0
}
